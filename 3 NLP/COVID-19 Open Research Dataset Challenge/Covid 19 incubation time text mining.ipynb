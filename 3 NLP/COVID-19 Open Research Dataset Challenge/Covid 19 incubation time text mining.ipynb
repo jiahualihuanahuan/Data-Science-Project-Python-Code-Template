{
 "cells": [
  {
   "cell_type": "code",
   "execution_count": 1,
   "metadata": {},
   "outputs": [],
   "source": [
    "import os # directory\n",
    "directory = 'D:/data science/COVID-19 Open Research Dataset Challenge (CORD-19)/document_parses'\n",
    "folder_list = ['pdf_json', 'pmc_json']"
   ]
  },
  {
   "cell_type": "code",
   "execution_count": 2,
   "metadata": {},
   "outputs": [
    {
     "name": "stderr",
     "output_type": "stream",
     "text": [
      "100%|██████████| 147676/147676 [17:24<00:00, 141.32it/s] \n",
      "100%|██████████| 109662/109662 [12:51<00:00, 142.13it/s]\n"
     ]
    },
    {
     "name": "stdout",
     "output_type": "stream",
     "text": [
      "Wall time: 32min 28s\n"
     ]
    }
   ],
   "source": [
    "%%time\n",
    "# iterate all files and extract research paper title, abstract, and body_text\n",
    "import json # read json file\n",
    "import pandas as pd # dataframe\n",
    "from tqdm import tqdm # progress bar\n",
    "# create empty list\n",
    "docs = []\n",
    "\n",
    "for folder in folder_list: # iterate all folders\n",
    "    for file in tqdm(os.listdir(f'{directory}/{folder}')): # iterate all files in each folder\n",
    "        file_path = f'{directory}/{folder}/{file}' # generate file path\n",
    "        try:\n",
    "            j_file = json.load(open(file_path, 'rb')) # read each json file\n",
    "            # get title from file\n",
    "            title = j_file['metadata']['title'] \n",
    "            # get abstract from file\n",
    "            try:\n",
    "                abstract = j_file['abstract']\n",
    "            except:\n",
    "                abstract = \"\"\n",
    "            # get body_text from file\n",
    "            body_text = \"\" # create empty string\n",
    "\n",
    "            for text in j_file[\"body_text\"]:\n",
    "                body_text += text['text']+' '\n",
    "\n",
    "            docs.append([title, abstract, body_text])\n",
    "        except:\n",
    "            pass\n",
    "# add column names to the dataframe\n",
    "df = pd.DataFrame(docs, columns=['title', 'abstract', 'body_text'])\n",
    "# save dataframe to a csv file\n",
    "df.to_csv(f'D:/data science/COVID-19 Open Research Dataset Challenge (CORD-19)/document_parses/covid19_docs.csv', index = False)"
   ]
  },
  {
   "cell_type": "code",
   "execution_count": 6,
   "metadata": {},
   "outputs": [
    {
     "name": "stderr",
     "output_type": "stream",
     "text": [
      "  3%|▎         | 1154/38863 [00:00<00:06, 5791.20it/s]"
     ]
    },
    {
     "name": "stdout",
     "output_type": "stream",
     "text": [
      "Number of literatures contains \"incubation\" 38863\n"
     ]
    },
    {
     "name": "stderr",
     "output_type": "stream",
     "text": [
      "100%|██████████| 38863/38863 [00:06<00:00, 5784.76it/s]\n"
     ]
    },
    {
     "name": "stdout",
     "output_type": "stream",
     "text": [
      "The mean incubation time reported is 8.6 days\n",
      "The median incubation time reported is 8.0 days\n",
      "Number of incubation occurs in the literatures is 5316\n"
     ]
    },
    {
     "data": {
      "image/png": "[encoded data removed]",
      "text/plain": [
       "<Figure size 432x288 with 1 Axes>"
      ]
     },
     "metadata": {},
     "output_type": "display_data"
    }
   ],
   "source": [
    "# find text with incubation and extract # of days in the same sentence\n",
    "import re # regular expression\n",
    "import numpy as np # basic stats\n",
    "import matplotlib.pyplot as plt # basic plot\n",
    "from matplotlib import style\n",
    "style.use(\"ggplot\")\n",
    "\n",
    "# get paper contains incubation\n",
    "incubation = df[df['body_text'].str.contains('incubation')]\n",
    "print(f'Number of literatures contains \"incubation\" {len(incubation)}')\n",
    "\n",
    "# get body_text content as texts\n",
    "texts = incubation['body_text'].values\n",
    "incubation_times = []\n",
    "num_sentences = 0\n",
    "\n",
    "for text in tqdm(texts): # iterate text contains 'incubation'\n",
    "    for sentence in text.split(\". \"): # iterate sentence contains 'incubation'\n",
    "        if \"incubation\" in sentence:               \n",
    "            # find xx.xx to/- xx.xx day\n",
    "            find_day = re.findall(r\"(\\d{1,2}(?:\\.\\d{1,2})?)? ?(?:to|-) ?(\\d{1,2}(?:\\.\\d{1,2})?) day\", sentence) \n",
    "            if len(find_day)==1: # find a match\n",
    "                num_sentences += 1 # count how many \n",
    "                if find_day[0][0] == \"\":\n",
    "                    single_day = float(find_day[0][1])\n",
    "                    if single_day <= 30: # disgard unrealistic data\n",
    "                        incubation_times.append(single_day)\n",
    "                else:\n",
    "                    # when time is given as range, add all possible values\n",
    "                    start = int(float(find_day[0][0])) # start of a range\n",
    "                    end = int(float(find_day[0][1])) # end of a range\n",
    "                    if end <=30: # disgard unrealistic data\n",
    "                        incubation_times += [*range(start, end+1)]\n",
    "\n",
    "print(f'The mean incubation time reported is {round(np.mean(incubation_times),1)} days') # get mean incubation time\n",
    "print(f'The median incubation time reported is {np.median(incubation_times)} days') # get median incubation time\n",
    "print(f'Number of incubation occurs in the literatures is {num_sentences}') \n",
    "plt.hist(incubation_times, bins=30)\n",
    "plt.ylabel('counts')\n",
    "plt.xlabel('incubation_times')\n",
    "plt.show()"
   ]
  },
  {
   "cell_type": "code",
   "execution_count": null,
   "metadata": {},
   "outputs": [],
   "source": []
  }
 ],
 "metadata": {
  "kernelspec": {
   "display_name": "Python 3",
   "language": "python",
   "name": "python3"
  },
  "language_info": {
   "codemirror_mode": {
    "name": "ipython",
    "version": 3
   },
   "file_extension": ".py",
   "mimetype": "text/x-python",
   "name": "python",
   "nbconvert_exporter": "python",
   "pygments_lexer": "ipython3",
   "version": "3.8.6"
  }
 },
 "nbformat": 4,
 "nbformat_minor": 4
}
