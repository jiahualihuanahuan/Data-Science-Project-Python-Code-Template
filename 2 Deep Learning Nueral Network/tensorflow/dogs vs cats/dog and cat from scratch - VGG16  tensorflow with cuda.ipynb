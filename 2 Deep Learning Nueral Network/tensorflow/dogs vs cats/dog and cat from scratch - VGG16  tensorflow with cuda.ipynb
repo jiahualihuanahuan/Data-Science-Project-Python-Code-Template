{
 "cells": [
  {
   "cell_type": "code",
   "execution_count": 1,
   "metadata": {},
   "outputs": [
    {
     "name": "stdout",
     "output_type": "stream",
     "text": [
      "2.4.0\n"
     ]
    }
   ],
   "source": [
    "import tensorflow as tf\n",
    "print(tf.__version__)"
   ]
  },
  {
   "cell_type": "code",
   "execution_count": 2,
   "metadata": {},
   "outputs": [],
   "source": [
    "train_data_directory = 'D:/data science/cats and dogs/train'"
   ]
  },
  {
   "cell_type": "code",
   "execution_count": 3,
   "metadata": {},
   "outputs": [
    {
     "name": "stdout",
     "output_type": "stream",
     "text": [
      "Found 20000 images belonging to 2 classes.\n",
      "Found 5000 images belonging to 2 classes.\n"
     ]
    }
   ],
   "source": [
    "# image data preprocessing\n",
    "image_size = (224,224)\n",
    "\n",
    "batch_size = 32\n",
    "\n",
    "\n",
    "class_mode = 'binary' # for multi-class classification problem, use: class_mode = 'category' \n",
    "\n",
    "\n",
    "train_datagen = tf.keras.preprocessing.image.ImageDataGenerator(\n",
    "#     rotation_range=90,\n",
    "#     rescale=1./255,\n",
    "#     shear_range=0.5,\n",
    "#     zoom_range=0.5,\n",
    "#     width_shift_range=0.5,\n",
    "#     height_shift_range=0.5,\n",
    "#     horizontal_flip=True,\n",
    "#     vertical_flip=True,\n",
    "#     fill_mode=\"nearest\",\n",
    "    validation_split=0.2 # set validation split\n",
    "    ) \n",
    "\n",
    "train_generator = train_datagen.flow_from_directory(\n",
    "    train_data_directory,\n",
    "    target_size=image_size,\n",
    "    batch_size=batch_size,\n",
    "    class_mode=class_mode, # for multi-class classification problem, use 'category'\n",
    "    subset='training') # set as training data\n",
    "\n",
    "validation_generator = train_datagen.flow_from_directory(\n",
    "    train_data_directory, # same directory as training data\n",
    "    target_size=image_size,\n",
    "    batch_size=batch_size,\n",
    "    class_mode=class_mode, # for multi-class classification problem, use 'category'\n",
    "    subset='validation') # set as validation data"
   ]
  },
  {
   "cell_type": "code",
   "execution_count": 4,
   "metadata": {},
   "outputs": [
    {
     "name": "stdout",
     "output_type": "stream",
     "text": [
      "Model: \"sequential\"\n",
      "_________________________________________________________________\n",
      "Layer (type)                 Output Shape              Param #   \n",
      "=================================================================\n",
      "conv2d (Conv2D)              (None, 224, 224, 64)      1792      \n",
      "_________________________________________________________________\n",
      "max_pooling2d (MaxPooling2D) (None, 112, 112, 64)      0         \n",
      "_________________________________________________________________\n",
      "conv2d_1 (Conv2D)            (None, 112, 112, 128)     73856     \n",
      "_________________________________________________________________\n",
      "conv2d_2 (Conv2D)            (None, 112, 112, 128)     147584    \n",
      "_________________________________________________________________\n",
      "max_pooling2d_1 (MaxPooling2 (None, 56, 56, 128)       0         \n",
      "_________________________________________________________________\n",
      "conv2d_3 (Conv2D)            (None, 56, 56, 256)       295168    \n",
      "_________________________________________________________________\n",
      "conv2d_4 (Conv2D)            (None, 56, 56, 256)       590080    \n",
      "_________________________________________________________________\n",
      "conv2d_5 (Conv2D)            (None, 56, 56, 256)       590080    \n",
      "_________________________________________________________________\n",
      "max_pooling2d_2 (MaxPooling2 (None, 28, 28, 256)       0         \n",
      "_________________________________________________________________\n",
      "conv2d_6 (Conv2D)            (None, 28, 28, 512)       1180160   \n",
      "_________________________________________________________________\n",
      "conv2d_7 (Conv2D)            (None, 28, 28, 512)       2359808   \n",
      "_________________________________________________________________\n",
      "conv2d_8 (Conv2D)            (None, 28, 28, 512)       2359808   \n",
      "_________________________________________________________________\n",
      "max_pooling2d_3 (MaxPooling2 (None, 14, 14, 512)       0         \n",
      "_________________________________________________________________\n",
      "conv2d_9 (Conv2D)            (None, 14, 14, 512)       2359808   \n",
      "_________________________________________________________________\n",
      "conv2d_10 (Conv2D)           (None, 14, 14, 512)       2359808   \n",
      "_________________________________________________________________\n",
      "conv2d_11 (Conv2D)           (None, 14, 14, 512)       2359808   \n",
      "_________________________________________________________________\n",
      "max_pooling2d_4 (MaxPooling2 (None, 7, 7, 512)         0         \n",
      "_________________________________________________________________\n",
      "flatten (Flatten)            (None, 25088)             0         \n",
      "_________________________________________________________________\n",
      "dense (Dense)                (None, 4096)              102764544 \n",
      "_________________________________________________________________\n",
      "dense_1 (Dense)              (None, 4096)              16781312  \n",
      "_________________________________________________________________\n",
      "dense_2 (Dense)              (None, 1)                 4097      \n",
      "=================================================================\n",
      "Total params: 134,227,713\n",
      "Trainable params: 134,227,713\n",
      "Non-trainable params: 0\n",
      "_________________________________________________________________\n"
     ]
    }
   ],
   "source": [
    "# build a model\n",
    "VGG_16 = tf.keras.Sequential()\n",
    "VGG_16.add(tf.keras.layers.Conv2D(input_shape=(224,224,3),filters=64,kernel_size=(3,3),padding=\"same\", activation=\"relu\"))\n",
    "VGG_16.add(tf.keras.layers.MaxPool2D(pool_size=(2,2),strides=(2,2)))\n",
    "\n",
    "VGG_16.add(tf.keras.layers.Conv2D(filters=128, kernel_size=(3,3), padding=\"same\", activation=\"relu\"))\n",
    "VGG_16.add(tf.keras.layers.Conv2D(filters=128, kernel_size=(3,3), padding=\"same\", activation=\"relu\"))\n",
    "VGG_16.add(tf.keras.layers.MaxPool2D(pool_size=(2,2),strides=(2,2)))\n",
    "\n",
    "VGG_16.add(tf.keras.layers.Conv2D(filters=256, kernel_size=(3,3), padding=\"same\", activation=\"relu\"))\n",
    "VGG_16.add(tf.keras.layers.Conv2D(filters=256, kernel_size=(3,3), padding=\"same\", activation=\"relu\"))\n",
    "VGG_16.add(tf.keras.layers.Conv2D(filters=256, kernel_size=(3,3), padding=\"same\", activation=\"relu\"))\n",
    "VGG_16.add(tf.keras.layers.MaxPool2D(pool_size=(2,2),strides=(2,2)))\n",
    "\n",
    "VGG_16.add(tf.keras.layers.Conv2D(filters=512, kernel_size=(3,3), padding=\"same\", activation=\"relu\"))\n",
    "VGG_16.add(tf.keras.layers.Conv2D(filters=512, kernel_size=(3,3), padding=\"same\", activation=\"relu\"))\n",
    "VGG_16.add(tf.keras.layers.Conv2D(filters=512, kernel_size=(3,3), padding=\"same\", activation=\"relu\"))\n",
    "VGG_16.add(tf.keras.layers.MaxPool2D(pool_size=(2,2),strides=(2,2)))\n",
    "\n",
    "VGG_16.add(tf.keras.layers.Conv2D(filters=512, kernel_size=(3,3), padding=\"same\", activation=\"relu\"))\n",
    "VGG_16.add(tf.keras.layers.Conv2D(filters=512, kernel_size=(3,3), padding=\"same\", activation=\"relu\"))\n",
    "VGG_16.add(tf.keras.layers.Conv2D(filters=512, kernel_size=(3,3), padding=\"same\", activation=\"relu\"))\n",
    "VGG_16.add(tf.keras.layers.MaxPool2D(pool_size=(2,2),strides=(2,2)))\n",
    "\n",
    "VGG_16.add(tf.keras.layers.Flatten())\n",
    "\n",
    "VGG_16.add(tf.keras.layers.Dense(4096,activation=\"relu\"))\n",
    "VGG_16.add(tf.keras.layers.Dense(4096,activation=\"relu\"))\n",
    "VGG_16.add(tf.keras.layers.Dense(1, activation=\"sigmoid\"))\n",
    "\n",
    "VGG_16.summary()"
   ]
  },
  {
   "cell_type": "code",
   "execution_count": 5,
   "metadata": {},
   "outputs": [],
   "source": [
    "# compile model\n",
    "VGG_16.compile(loss='binary_crossentropy',\n",
    "              optimizer=tf.keras.optimizers.Adam(lr=0.00005),\n",
    "              metrics=['acc'])"
   ]
  },
  {
   "cell_type": "code",
   "execution_count": 6,
   "metadata": {},
   "outputs": [
    {
     "name": "stdout",
     "output_type": "stream",
     "text": [
      "WARNING:tensorflow:`period` argument is deprecated. Please use `save_freq` to specify the frequency in number of batches seen.\n"
     ]
    }
   ],
   "source": [
    "# Callbacks\n",
    "checkpoint = tf.keras.callbacks.ModelCheckpoint(\"VGG16_dog_cat.h5\", \n",
    "                             monitor='val_acc', \n",
    "                             verbose=1, \n",
    "                             save_best_only=True, \n",
    "                             save_weights_only=False, \n",
    "                             mode='auto', \n",
    "                             save_freq=1)\n",
    "early = tf.keras.callbacks.EarlyStopping(monitor='val_acc', \n",
    "                      min_delta=0, \n",
    "                      patience=10, \n",
    "                      verbose=1, \n",
    "                      mode='auto')\n",
    "learning_rate_reduction = tf.keras.callbacks.ReduceLROnPlateau(monitor='val_acc',\n",
    "                                            patience=2,\n",
    "                                            verbose=1,\n",
    "                                            factor=0.1,\n",
    "                                            min_lr=0.000000001)"
   ]
  },
  {
   "cell_type": "code",
   "execution_count": 7,
   "metadata": {
    "scrolled": false
   },
   "outputs": [
    {
     "name": "stderr",
     "output_type": "stream",
     "text": [
      "C:\\Users\\jiahu\\anaconda3\\envs\\tensorflow-gpu\\lib\\site-packages\\tensorflow\\python\\keras\\engine\\training.py:1844: UserWarning: `Model.fit_generator` is deprecated and will be removed in a future version. Please use `Model.fit`, which supports generators.\n",
      "  warnings.warn('`Model.fit_generator` is deprecated and '\n"
     ]
    },
    {
     "name": "stdout",
     "output_type": "stream",
     "text": [
      "Epoch 1/1000\n",
      "625/625 [==============================] - 273s 426ms/step - loss: 0.7340 - acc: 0.5586 - val_loss: 0.6040 - val_acc: 0.6685\n",
      "\n",
      "Epoch 00001: val_acc improved from -inf to 0.66847, saving model to VGG16_dog_cat.h5\n",
      "Epoch 2/1000\n",
      "625/625 [==============================] - 177s 284ms/step - loss: 0.5519 - acc: 0.7201 - val_loss: 0.5052 - val_acc: 0.7598\n",
      "\n",
      "Epoch 00002: val_acc improved from 0.66847 to 0.75982, saving model to VGG16_dog_cat.h5\n",
      "Epoch 3/1000\n",
      "625/625 [==============================] - 170s 272ms/step - loss: 0.4373 - acc: 0.8020 - val_loss: 0.3539 - val_acc: 0.8460\n",
      "\n",
      "Epoch 00003: val_acc improved from 0.75982 to 0.84595, saving model to VGG16_dog_cat.h5\n",
      "Epoch 4/1000\n",
      "625/625 [==============================] - 169s 270ms/step - loss: 0.3070 - acc: 0.8669 - val_loss: 0.2578 - val_acc: 0.8936\n",
      "\n",
      "Epoch 00004: val_acc improved from 0.84595 to 0.89363, saving model to VGG16_dog_cat.h5\n",
      "Epoch 5/1000\n",
      "625/625 [==============================] - 168s 269ms/step - loss: 0.2078 - acc: 0.9145 - val_loss: 0.2375 - val_acc: 0.9081\n",
      "\n",
      "Epoch 00005: val_acc improved from 0.89363 to 0.90805, saving model to VGG16_dog_cat.h5\n",
      "Epoch 6/1000\n",
      "625/625 [==============================] - 168s 269ms/step - loss: 0.1545 - acc: 0.9357 - val_loss: 0.2295 - val_acc: 0.9209\n",
      "\n",
      "Epoch 00006: val_acc improved from 0.90805 to 0.92087, saving model to VGG16_dog_cat.h5\n",
      "Epoch 7/1000\n",
      "625/625 [==============================] - 169s 271ms/step - loss: 0.1091 - acc: 0.9576 - val_loss: 0.2029 - val_acc: 0.9223\n",
      "\n",
      "Epoch 00007: val_acc improved from 0.92087 to 0.92228, saving model to VGG16_dog_cat.h5\n",
      "Epoch 8/1000\n",
      "625/625 [==============================] - 169s 270ms/step - loss: 0.0809 - acc: 0.9685 - val_loss: 0.2199 - val_acc: 0.9269\n",
      "\n",
      "Epoch 00008: val_acc improved from 0.92228 to 0.92688, saving model to VGG16_dog_cat.h5\n",
      "Epoch 9/1000\n",
      "625/625 [==============================] - 167s 266ms/step - loss: 0.0598 - acc: 0.9771 - val_loss: 0.2220 - val_acc: 0.9289\n",
      "\n",
      "Epoch 00009: val_acc improved from 0.92688 to 0.92889, saving model to VGG16_dog_cat.h5\n",
      "Epoch 10/1000\n",
      "625/625 [==============================] - 169s 270ms/step - loss: 0.0442 - acc: 0.9830 - val_loss: 0.3073 - val_acc: 0.9177\n",
      "\n",
      "Epoch 00010: val_acc did not improve from 0.92889\n",
      "Epoch 11/1000\n",
      "625/625 [==============================] - 151s 242ms/step - loss: 0.0435 - acc: 0.9837 - val_loss: 0.2627 - val_acc: 0.9367\n",
      "\n",
      "Epoch 00011: val_acc improved from 0.92889 to 0.93670, saving model to VGG16_dog_cat.h5\n",
      "Epoch 12/1000\n",
      "625/625 [==============================] - 151s 241ms/step - loss: 0.0271 - acc: 0.9901 - val_loss: 0.2529 - val_acc: 0.9309\n",
      "\n",
      "Epoch 00012: val_acc did not improve from 0.93670\n",
      "Epoch 13/1000\n",
      "625/625 [==============================] - 152s 244ms/step - loss: 0.0284 - acc: 0.9893 - val_loss: 0.2782 - val_acc: 0.9355\n",
      "\n",
      "Epoch 00013: val_acc did not improve from 0.93670\n",
      "\n",
      "Epoch 00013: ReduceLROnPlateau reducing learning rate to 4.999999873689376e-06.\n",
      "Epoch 14/1000\n",
      "625/625 [==============================] - 153s 245ms/step - loss: 0.0070 - acc: 0.9977 - val_loss: 0.2790 - val_acc: 0.9429\n",
      "\n",
      "Epoch 00014: val_acc improved from 0.93670 to 0.94291, saving model to VGG16_dog_cat.h5\n",
      "Epoch 15/1000\n",
      "625/625 [==============================] - 154s 246ms/step - loss: 0.0010 - acc: 1.0000 - val_loss: 0.3046 - val_acc: 0.9441\n",
      "\n",
      "Epoch 00015: val_acc improved from 0.94291 to 0.94411, saving model to VGG16_dog_cat.h5\n",
      "Epoch 16/1000\n",
      "625/625 [==============================] - 154s 247ms/step - loss: 3.9987e-04 - acc: 1.0000 - val_loss: 0.3341 - val_acc: 0.9439\n",
      "\n",
      "Epoch 00016: val_acc did not improve from 0.94411\n",
      "Epoch 17/1000\n",
      "625/625 [==============================] - 155s 248ms/step - loss: 1.9724e-04 - acc: 1.0000 - val_loss: 0.3587 - val_acc: 0.9445\n",
      "\n",
      "Epoch 00017: val_acc improved from 0.94411 to 0.94451, saving model to VGG16_dog_cat.h5\n",
      "Epoch 18/1000\n",
      "625/625 [==============================] - 155s 248ms/step - loss: 1.1745e-04 - acc: 1.0000 - val_loss: 0.3851 - val_acc: 0.9439\n",
      "\n",
      "Epoch 00018: val_acc did not improve from 0.94451\n",
      "Epoch 19/1000\n",
      "625/625 [==============================] - 155s 249ms/step - loss: 8.7086e-05 - acc: 1.0000 - val_loss: 0.4091 - val_acc: 0.9435\n",
      "\n",
      "Epoch 00019: val_acc did not improve from 0.94451\n",
      "\n",
      "Epoch 00019: ReduceLROnPlateau reducing learning rate to 4.999999873689376e-07.\n",
      "Epoch 20/1000\n",
      "625/625 [==============================] - 156s 249ms/step - loss: 4.6667e-05 - acc: 1.0000 - val_loss: 0.4116 - val_acc: 0.9437\n",
      "\n",
      "Epoch 00020: val_acc did not improve from 0.94451\n",
      "Epoch 21/1000\n",
      "625/625 [==============================] - 157s 251ms/step - loss: 4.0551e-05 - acc: 1.0000 - val_loss: 0.4146 - val_acc: 0.9441\n",
      "\n",
      "Epoch 00021: val_acc did not improve from 0.94451\n",
      "\n",
      "Epoch 00021: ReduceLROnPlateau reducing learning rate to 4.999999987376214e-08.\n",
      "Epoch 22/1000\n",
      "625/625 [==============================] - 158s 252ms/step - loss: 4.0651e-05 - acc: 1.0000 - val_loss: 0.4149 - val_acc: 0.9441\n",
      "\n",
      "Epoch 00022: val_acc did not improve from 0.94451\n",
      "Epoch 23/1000\n",
      "625/625 [==============================] - 158s 253ms/step - loss: 4.5594e-05 - acc: 1.0000 - val_loss: 0.4157 - val_acc: 0.9439\n",
      "\n",
      "Epoch 00023: val_acc did not improve from 0.94451\n",
      "\n",
      "Epoch 00023: ReduceLROnPlateau reducing learning rate to 5.000000058430488e-09.\n",
      "Epoch 24/1000\n",
      "625/625 [==============================] - 158s 253ms/step - loss: 4.4054e-05 - acc: 1.0000 - val_loss: 0.4157 - val_acc: 0.9439\n",
      "\n",
      "Epoch 00024: val_acc did not improve from 0.94451\n",
      "Epoch 25/1000\n",
      "625/625 [==============================] - 159s 254ms/step - loss: 4.2044e-05 - acc: 1.0000 - val_loss: 0.4158 - val_acc: 0.9439\n",
      "\n",
      "Epoch 00025: val_acc did not improve from 0.94451\n",
      "\n",
      "Epoch 00025: ReduceLROnPlateau reducing learning rate to 1e-09.\n",
      "Epoch 26/1000\n",
      "625/625 [==============================] - 160s 255ms/step - loss: 3.8600e-05 - acc: 1.0000 - val_loss: 0.4158 - val_acc: 0.9439\n",
      "\n",
      "Epoch 00026: val_acc did not improve from 0.94451\n",
      "Epoch 27/1000\n",
      "625/625 [==============================] - 160s 256ms/step - loss: 4.1419e-05 - acc: 1.0000 - val_loss: 0.4158 - val_acc: 0.9439\n",
      "\n",
      "Epoch 00027: val_acc did not improve from 0.94451\n",
      "Epoch 00027: early stopping\n"
     ]
    }
   ],
   "source": [
    "# fit/train model\n",
    "\n",
    "nb_epochs = 1000\n",
    "\n",
    "history = VGG_16.fit(\n",
    "    train_generator,\n",
    "    steps_per_epoch = train_generator.samples // batch_size,\n",
    "    validation_data = validation_generator, \n",
    "    validation_steps = validation_generator.samples // batch_size,\n",
    "    epochs = nb_epochs,\n",
    "    callbacks=[checkpoint, early, learning_rate_reduction])"
   ]
  },
  {
   "cell_type": "code",
   "execution_count": 8,
   "metadata": {},
   "outputs": [
    {
     "data": {
      "image/png": "[encoded data removed]",
      "text/plain": [
       "<Figure size 432x288 with 1 Axes>"
      ]
     },
     "metadata": {
      "needs_background": "light"
     },
     "output_type": "display_data"
    },
    {
     "data": {
      "image/png": "[encoded data removed]",
      "text/plain": [
       "<Figure size 432x288 with 1 Axes>"
      ]
     },
     "metadata": {
      "needs_background": "light"
     },
     "output_type": "display_data"
    }
   ],
   "source": [
    "import matplotlib.pyplot as plt\n",
    "\n",
    "# summarize history for accuracy\n",
    "plt.plot(history.history['acc'])\n",
    "plt.plot(history.history['val_acc'])\n",
    "plt.title('model accuracy')\n",
    "plt.ylabel('accuracy')\n",
    "plt.xlabel('epoch')\n",
    "plt.legend(['train', 'test'], loc='upper left')\n",
    "plt.show()\n",
    "\n",
    "# summarize history for loss\n",
    "plt.plot(history.history['loss'])\n",
    "plt.plot(history.history['val_loss'])\n",
    "plt.title('model loss')\n",
    "plt.ylabel('loss')\n",
    "plt.xlabel('epoch')\n",
    "plt.legend(['train', 'test'], loc='upper left')\n",
    "plt.show()"
   ]
  },
  {
   "cell_type": "code",
   "execution_count": null,
   "metadata": {},
   "outputs": [],
   "source": []
  }
 ],
 "metadata": {
  "kernelspec": {
   "display_name": "Python 3",
   "language": "python",
   "name": "python3"
  },
  "language_info": {
   "codemirror_mode": {
    "name": "ipython",
    "version": 3
   },
   "file_extension": ".py",
   "mimetype": "text/x-python",
   "name": "python",
   "nbconvert_exporter": "python",
   "pygments_lexer": "ipython3",
   "version": "3.8.6"
  }
 },
 "nbformat": 4,
 "nbformat_minor": 4
}
