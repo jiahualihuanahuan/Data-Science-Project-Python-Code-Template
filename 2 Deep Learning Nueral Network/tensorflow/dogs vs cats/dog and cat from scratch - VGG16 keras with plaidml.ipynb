{
 "cells": [
  {
   "cell_type": "code",
   "execution_count": 1,
   "metadata": {},
   "outputs": [
    {
     "name": "stderr",
     "output_type": "stream",
     "text": [
      "Using plaidml.keras.backend backend.\n"
     ]
    }
   ],
   "source": [
    "import os\n",
    "os.environ[\"KERAS_BACKEND\"] = \"plaidml.keras.backend\"\n",
    "import keras"
   ]
  },
  {
   "cell_type": "code",
   "execution_count": 2,
   "metadata": {},
   "outputs": [],
   "source": [
    "train_data_directory = 'D:/data science/cats and dogs/train'"
   ]
  },
  {
   "cell_type": "code",
   "execution_count": 3,
   "metadata": {},
   "outputs": [
    {
     "name": "stdout",
     "output_type": "stream",
     "text": [
      "Found 20000 images belonging to 2 classes.\n",
      "Found 5000 images belonging to 2 classes.\n"
     ]
    }
   ],
   "source": [
    "# image data preprocessing\n",
    "image_size = (224,224)\n",
    "\n",
    "batch_size = 32\n",
    "\n",
    "\n",
    "class_mode = 'binary' # for multi-class classification problem, use: class_mode = 'category' \n",
    "\n",
    "from keras.preprocessing.image import ImageDataGenerator\n",
    "train_datagen = ImageDataGenerator(\n",
    "#     rotation_range=90,\n",
    "#     rescale=1./255,\n",
    "#     shear_range=0.5,\n",
    "#     zoom_range=0.5,\n",
    "#     width_shift_range=0.5,\n",
    "#     height_shift_range=0.5,\n",
    "#     horizontal_flip=True,\n",
    "#     vertical_flip=True,\n",
    "#     fill_mode=\"nearest\",\n",
    "    validation_split=0.2 # set validation split\n",
    "    ) \n",
    "\n",
    "train_generator = train_datagen.flow_from_directory(\n",
    "    train_data_directory,\n",
    "    target_size=image_size,\n",
    "    batch_size=batch_size,\n",
    "    class_mode=class_mode, # for multi-class classification problem, use 'category'\n",
    "    subset='training') # set as training data\n",
    "\n",
    "validation_generator = train_datagen.flow_from_directory(\n",
    "    train_data_directory, # same directory as training data\n",
    "    target_size=image_size,\n",
    "    batch_size=batch_size,\n",
    "    class_mode=class_mode, # for multi-class classification problem, use 'category'\n",
    "    subset='validation') # set as validation data"
   ]
  },
  {
   "cell_type": "code",
   "execution_count": 4,
   "metadata": {},
   "outputs": [
    {
     "name": "stderr",
     "output_type": "stream",
     "text": [
      "INFO:plaidml:Opening device \"opencl_nvidia_geforce_rtx_3080.0\"\n"
     ]
    },
    {
     "name": "stdout",
     "output_type": "stream",
     "text": [
      "_________________________________________________________________\n",
      "Layer (type)                 Output Shape              Param #   \n",
      "=================================================================\n",
      "conv2d_1 (Conv2D)            (None, 224, 224, 64)      1792      \n",
      "_________________________________________________________________\n",
      "max_pooling2d_1 (MaxPooling2 (None, 112, 112, 64)      0         \n",
      "_________________________________________________________________\n",
      "conv2d_2 (Conv2D)            (None, 112, 112, 128)     73856     \n",
      "_________________________________________________________________\n",
      "conv2d_3 (Conv2D)            (None, 112, 112, 128)     147584    \n",
      "_________________________________________________________________\n",
      "max_pooling2d_2 (MaxPooling2 (None, 56, 56, 128)       0         \n",
      "_________________________________________________________________\n",
      "conv2d_4 (Conv2D)            (None, 56, 56, 256)       295168    \n",
      "_________________________________________________________________\n",
      "conv2d_5 (Conv2D)            (None, 56, 56, 256)       590080    \n",
      "_________________________________________________________________\n",
      "conv2d_6 (Conv2D)            (None, 56, 56, 256)       590080    \n",
      "_________________________________________________________________\n",
      "max_pooling2d_3 (MaxPooling2 (None, 28, 28, 256)       0         \n",
      "_________________________________________________________________\n",
      "conv2d_7 (Conv2D)            (None, 28, 28, 512)       1180160   \n",
      "_________________________________________________________________\n",
      "conv2d_8 (Conv2D)            (None, 28, 28, 512)       2359808   \n",
      "_________________________________________________________________\n",
      "conv2d_9 (Conv2D)            (None, 28, 28, 512)       2359808   \n",
      "_________________________________________________________________\n",
      "max_pooling2d_4 (MaxPooling2 (None, 14, 14, 512)       0         \n",
      "_________________________________________________________________\n",
      "conv2d_10 (Conv2D)           (None, 14, 14, 512)       2359808   \n",
      "_________________________________________________________________\n",
      "conv2d_11 (Conv2D)           (None, 14, 14, 512)       2359808   \n",
      "_________________________________________________________________\n",
      "conv2d_12 (Conv2D)           (None, 14, 14, 512)       2359808   \n",
      "_________________________________________________________________\n",
      "max_pooling2d_5 (MaxPooling2 (None, 7, 7, 512)         0         \n",
      "_________________________________________________________________\n",
      "flatten_1 (Flatten)          (None, 25088)             0         \n",
      "_________________________________________________________________\n",
      "dense_1 (Dense)              (None, 4096)              102764544 \n",
      "_________________________________________________________________\n",
      "dense_2 (Dense)              (None, 4096)              16781312  \n",
      "_________________________________________________________________\n",
      "dense_3 (Dense)              (None, 1)                 4097      \n",
      "=================================================================\n",
      "Total params: 134,227,713\n",
      "Trainable params: 134,227,713\n",
      "Non-trainable params: 0\n",
      "_________________________________________________________________\n"
     ]
    }
   ],
   "source": [
    "# build a model\n",
    "from keras.models import Sequential\n",
    "from keras.layers import Dense, Conv2D, MaxPool2D , Flatten, Dropout, GlobalAveragePooling2D\n",
    "\n",
    "VGG_16 = Sequential()\n",
    "VGG_16.add(Conv2D(input_shape=(224,224,3),filters=64,kernel_size=(3,3),padding=\"same\", activation=\"relu\"))\n",
    "VGG_16.add(MaxPool2D(pool_size=(2,2),strides=(2,2)))\n",
    "\n",
    "VGG_16.add(Conv2D(filters=128, kernel_size=(3,3), padding=\"same\", activation=\"relu\"))\n",
    "VGG_16.add(Conv2D(filters=128, kernel_size=(3,3), padding=\"same\", activation=\"relu\"))\n",
    "VGG_16.add(MaxPool2D(pool_size=(2,2),strides=(2,2)))\n",
    "\n",
    "VGG_16.add(Conv2D(filters=256, kernel_size=(3,3), padding=\"same\", activation=\"relu\"))\n",
    "VGG_16.add(Conv2D(filters=256, kernel_size=(3,3), padding=\"same\", activation=\"relu\"))\n",
    "VGG_16.add(Conv2D(filters=256, kernel_size=(3,3), padding=\"same\", activation=\"relu\"))\n",
    "VGG_16.add(MaxPool2D(pool_size=(2,2),strides=(2,2)))\n",
    "\n",
    "VGG_16.add(Conv2D(filters=512, kernel_size=(3,3), padding=\"same\", activation=\"relu\"))\n",
    "VGG_16.add(Conv2D(filters=512, kernel_size=(3,3), padding=\"same\", activation=\"relu\"))\n",
    "VGG_16.add(Conv2D(filters=512, kernel_size=(3,3), padding=\"same\", activation=\"relu\"))\n",
    "VGG_16.add(MaxPool2D(pool_size=(2,2),strides=(2,2)))\n",
    "\n",
    "VGG_16.add(Conv2D(filters=512, kernel_size=(3,3), padding=\"same\", activation=\"relu\"))\n",
    "VGG_16.add(Conv2D(filters=512, kernel_size=(3,3), padding=\"same\", activation=\"relu\"))\n",
    "VGG_16.add(Conv2D(filters=512, kernel_size=(3,3), padding=\"same\", activation=\"relu\"))\n",
    "VGG_16.add(MaxPool2D(pool_size=(2,2),strides=(2,2)))\n",
    "\n",
    "VGG_16.add(Flatten())\n",
    "\n",
    "VGG_16.add(Dense(4096,activation=\"relu\"))\n",
    "VGG_16.add(Dense(4096,activation=\"relu\"))\n",
    "VGG_16.add(Dense(1, activation=\"sigmoid\"))\n",
    "\n",
    "VGG_16.summary()"
   ]
  },
  {
   "cell_type": "code",
   "execution_count": 5,
   "metadata": {},
   "outputs": [],
   "source": [
    "# compile model\n",
    "from keras import optimizers\n",
    "\n",
    "VGG_16.compile(loss='binary_crossentropy',\n",
    "              optimizer=optimizers.Adam(lr=0.00005),\n",
    "              metrics=['acc'])"
   ]
  },
  {
   "cell_type": "code",
   "execution_count": 6,
   "metadata": {},
   "outputs": [],
   "source": [
    "# Callbacks\n",
    "from keras.callbacks import ModelCheckpoint, EarlyStopping, ReduceLROnPlateau\n",
    "checkpoint = ModelCheckpoint(\"VGG16_dog_cat.h5\", \n",
    "                             monitor='val_acc', \n",
    "                             verbose=1, \n",
    "                             save_best_only=True, \n",
    "                             save_weights_only=False, \n",
    "                             mode='auto', \n",
    "                             period=1)\n",
    "early = EarlyStopping(monitor='val_acc', \n",
    "                      min_delta=0, \n",
    "                      patience=10, \n",
    "                      verbose=1, \n",
    "                      mode='auto')\n",
    "learning_rate_reduction = ReduceLROnPlateau(monitor='val_acc',\n",
    "                                            patience=2,\n",
    "                                            verbose=1,\n",
    "                                            factor=0.1,\n",
    "                                            min_lr=0.000000001)"
   ]
  },
  {
   "cell_type": "code",
   "execution_count": 7,
   "metadata": {
    "scrolled": false
   },
   "outputs": [
    {
     "name": "stdout",
     "output_type": "stream",
     "text": [
      "Epoch 1/1000\n",
      "625/625 [==============================] - 540s 865ms/step - loss: 0.6323 - acc: 0.6320 - val_loss: 0.5653 - val_acc: 0.7023\n",
      "\n",
      "Epoch 00001: val_acc improved from -inf to 0.70232, saving model to VGG16_dog_cat.h5\n",
      "Epoch 2/1000\n",
      "625/625 [==============================] - 537s 859ms/step - loss: 0.5338 - acc: 0.7329 - val_loss: 0.4850 - val_acc: 0.7647\n",
      "\n",
      "Epoch 00002: val_acc improved from 0.70232 to 0.76469, saving model to VGG16_dog_cat.h5\n",
      "Epoch 3/1000\n",
      "625/625 [==============================] - 534s 855ms/step - loss: 0.4061 - acc: 0.8154 - val_loss: 0.3473 - val_acc: 0.8448\n",
      "\n",
      "Epoch 00003: val_acc improved from 0.76469 to 0.84481, saving model to VGG16_dog_cat.h5\n",
      "Epoch 4/1000\n",
      "625/625 [==============================] - 533s 853ms/step - loss: 0.2798 - acc: 0.8815 - val_loss: 0.2744 - val_acc: 0.8810\n",
      "\n",
      "Epoch 00004: val_acc improved from 0.84481 to 0.88104, saving model to VGG16_dog_cat.h5\n",
      "Epoch 5/1000\n",
      "625/625 [==============================] - 534s 855ms/step - loss: 0.2097 - acc: 0.9130 - val_loss: 0.2265 - val_acc: 0.9070\n",
      "\n",
      "Epoch 00005: val_acc improved from 0.88104 to 0.90700, saving model to VGG16_dog_cat.h5\n",
      "Epoch 6/1000\n",
      "625/625 [==============================] - 534s 854ms/step - loss: 0.1544 - acc: 0.9362 - val_loss: 0.2197 - val_acc: 0.9195\n",
      "\n",
      "Epoch 00006: val_acc improved from 0.90700 to 0.91948, saving model to VGG16_dog_cat.h5\n",
      "Epoch 7/1000\n",
      "625/625 [==============================] - 534s 854ms/step - loss: 0.1088 - acc: 0.9569 - val_loss: 0.2165 - val_acc: 0.9183\n",
      "\n",
      "Epoch 00007: val_acc did not improve from 0.91948\n",
      "Epoch 8/1000\n",
      "625/625 [==============================] - 534s 854ms/step - loss: 0.0803 - acc: 0.9683 - val_loss: 0.1971 - val_acc: 0.9251\n",
      "\n",
      "Epoch 00008: val_acc improved from 0.91948 to 0.92512, saving model to VGG16_dog_cat.h5\n",
      "Epoch 9/1000\n",
      "625/625 [==============================] - 533s 853ms/step - loss: 0.0558 - acc: 0.9784 - val_loss: 0.2424 - val_acc: 0.9211\n",
      "\n",
      "Epoch 00009: val_acc did not improve from 0.92512\n",
      "Epoch 10/1000\n",
      "625/625 [==============================] - 531s 850ms/step - loss: 0.0460 - acc: 0.9817 - val_loss: 0.3483 - val_acc: 0.9179\n",
      "\n",
      "Epoch 00010: val_acc did not improve from 0.92512\n",
      "\n",
      "Epoch 00010: ReduceLROnPlateau reducing learning rate to 4.999999873689376e-06.\n",
      "Epoch 11/1000\n",
      "625/625 [==============================] - 533s 852ms/step - loss: 0.0113 - acc: 0.9969 - val_loss: 0.3056 - val_acc: 0.9328\n",
      "\n",
      "Epoch 00011: val_acc improved from 0.92512 to 0.93277, saving model to VGG16_dog_cat.h5\n",
      "Epoch 12/1000\n",
      "625/625 [==============================] - 531s 849ms/step - loss: 0.0021 - acc: 0.9997 - val_loss: 0.3569 - val_acc: 0.9308\n",
      "\n",
      "Epoch 00012: val_acc did not improve from 0.93277\n",
      "Epoch 13/1000\n",
      "625/625 [==============================] - 531s 849ms/step - loss: 7.9143e-04 - acc: 0.9999 - val_loss: 0.3849 - val_acc: 0.9316\n",
      "\n",
      "Epoch 00013: val_acc did not improve from 0.93277\n",
      "\n",
      "Epoch 00013: ReduceLROnPlateau reducing learning rate to 4.999999873689376e-07.\n",
      "Epoch 14/1000\n",
      "625/625 [==============================] - 530s 848ms/step - loss: 5.3216e-04 - acc: 1.0000 - val_loss: 0.3760 - val_acc: 0.9348\n",
      "\n",
      "Epoch 00014: val_acc improved from 0.93277 to 0.93478, saving model to VGG16_dog_cat.h5\n",
      "Epoch 15/1000\n",
      "625/625 [==============================] - 528s 845ms/step - loss: 4.5214e-04 - acc: 1.0000 - val_loss: 0.3910 - val_acc: 0.9320\n",
      "\n",
      "Epoch 00015: val_acc did not improve from 0.93478\n",
      "Epoch 16/1000\n",
      "625/625 [==============================] - 531s 849ms/step - loss: 3.7956e-04 - acc: 1.0000 - val_loss: 0.4054 - val_acc: 0.9300\n",
      "\n",
      "Epoch 00016: val_acc did not improve from 0.93478\n",
      "\n",
      "Epoch 00016: ReduceLROnPlateau reducing learning rate to 4.999999987376214e-08.\n",
      "Epoch 17/1000\n",
      "625/625 [==============================] - 530s 848ms/step - loss: 3.2150e-04 - acc: 1.0000 - val_loss: 0.3904 - val_acc: 0.9346\n",
      "\n",
      "Epoch 00017: val_acc did not improve from 0.93478\n",
      "Epoch 18/1000\n",
      "625/625 [==============================] - 530s 848ms/step - loss: 3.1525e-04 - acc: 1.0000 - val_loss: 0.4086 - val_acc: 0.9300\n",
      "\n",
      "Epoch 00018: val_acc did not improve from 0.93478\n",
      "\n",
      "Epoch 00018: ReduceLROnPlateau reducing learning rate to 5.000000058430488e-09.\n",
      "Epoch 19/1000\n",
      "625/625 [==============================] - 531s 849ms/step - loss: 3.0899e-04 - acc: 1.0000 - val_loss: 0.3904 - val_acc: 0.9324\n",
      "\n",
      "Epoch 00019: val_acc did not improve from 0.93478\n",
      "Epoch 20/1000\n",
      "625/625 [==============================] - 530s 847ms/step - loss: 3.0831e-04 - acc: 1.0000 - val_loss: 0.4114 - val_acc: 0.9326\n",
      "\n",
      "Epoch 00020: val_acc did not improve from 0.93478\n",
      "\n",
      "Epoch 00020: ReduceLROnPlateau reducing learning rate to 1e-09.\n",
      "Epoch 21/1000\n",
      "625/625 [==============================] - 531s 849ms/step - loss: 3.0758e-04 - acc: 1.0000 - val_loss: 0.3994 - val_acc: 0.9298\n",
      "\n",
      "Epoch 00021: val_acc did not improve from 0.93478\n",
      "Epoch 22/1000\n",
      "625/625 [==============================] - 530s 848ms/step - loss: 3.0748e-04 - acc: 1.0000 - val_loss: 0.4140 - val_acc: 0.9308\n",
      "\n",
      "Epoch 00022: val_acc did not improve from 0.93478\n",
      "Epoch 23/1000\n",
      "625/625 [==============================] - 530s 849ms/step - loss: 3.0735e-04 - acc: 1.0000 - val_loss: 0.3732 - val_acc: 0.9348\n",
      "\n",
      "Epoch 00023: val_acc did not improve from 0.93478\n",
      "Epoch 24/1000\n",
      "625/625 [==============================] - 531s 850ms/step - loss: 3.0719e-04 - acc: 1.0000 - val_loss: 0.4181 - val_acc: 0.9310\n",
      "\n",
      "Epoch 00024: val_acc did not improve from 0.93478\n",
      "Epoch 00024: early stopping\n"
     ]
    }
   ],
   "source": [
    "# fit/train model\n",
    "\n",
    "nb_epochs = 1000\n",
    "\n",
    "history = VGG_16.fit_generator(\n",
    "    train_generator,\n",
    "    steps_per_epoch = train_generator.samples // batch_size,\n",
    "    validation_data = validation_generator, \n",
    "    validation_steps = validation_generator.samples // batch_size,\n",
    "    epochs = nb_epochs,\n",
    "    callbacks=[checkpoint, early, learning_rate_reduction])"
   ]
  },
  {
   "cell_type": "code",
   "execution_count": 8,
   "metadata": {},
   "outputs": [
    {
     "data": {
      "image/png": "[encoded data removed]",
      "text/plain": [
       "<Figure size 432x288 with 1 Axes>"
      ]
     },
     "metadata": {
      "needs_background": "light"
     },
     "output_type": "display_data"
    },
    {
     "data": {
      "image/png": "[encoded data removed]",
      "text/plain": [
       "<Figure size 432x288 with 1 Axes>"
      ]
     },
     "metadata": {
      "needs_background": "light"
     },
     "output_type": "display_data"
    }
   ],
   "source": [
    "import matplotlib.pyplot as plt\n",
    "\n",
    "# summarize history for accuracy\n",
    "plt.plot(history.history['acc'])\n",
    "plt.plot(history.history['val_acc'])\n",
    "plt.title('model accuracy')\n",
    "plt.ylabel('accuracy')\n",
    "plt.xlabel('epoch')\n",
    "plt.legend(['train', 'test'], loc='upper left')\n",
    "plt.show()\n",
    "\n",
    "# summarize history for loss\n",
    "plt.plot(history.history['loss'])\n",
    "plt.plot(history.history['val_loss'])\n",
    "plt.title('model loss')\n",
    "plt.ylabel('loss')\n",
    "plt.xlabel('epoch')\n",
    "plt.legend(['train', 'test'], loc='upper left')\n",
    "plt.show()"
   ]
  },
  {
   "cell_type": "code",
   "execution_count": null,
   "metadata": {},
   "outputs": [],
   "source": []
  }
 ],
 "metadata": {
  "kernelspec": {
   "display_name": "Python 3",
   "language": "python",
   "name": "python3"
  },
  "language_info": {
   "codemirror_mode": {
    "name": "ipython",
    "version": 3
   },
   "file_extension": ".py",
   "mimetype": "text/x-python",
   "name": "python",
   "nbconvert_exporter": "python",
   "pygments_lexer": "ipython3",
   "version": "3.8.6"
  }
 },
 "nbformat": 4,
 "nbformat_minor": 4
}
