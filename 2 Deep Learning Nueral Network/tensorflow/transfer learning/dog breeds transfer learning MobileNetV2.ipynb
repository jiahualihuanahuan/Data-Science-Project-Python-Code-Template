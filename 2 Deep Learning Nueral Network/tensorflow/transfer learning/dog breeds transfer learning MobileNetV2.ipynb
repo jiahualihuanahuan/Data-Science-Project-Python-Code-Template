{
 "cells": [
  {
   "cell_type": "code",
   "execution_count": 1,
   "id": "9d25fe93",
   "metadata": {},
   "outputs": [
    {
     "name": "stdout",
     "output_type": "stream",
     "text": [
      "2.5.0\n"
     ]
    }
   ],
   "source": [
    "import tensorflow as tf\n",
    "print(tf.__version__)"
   ]
  },
  {
   "cell_type": "code",
   "execution_count": 2,
   "id": "f6b47b11",
   "metadata": {},
   "outputs": [],
   "source": [
    "train_data_directory = 'C:/Users/Jenny/Dropbox/Data/Dog_Breeds'"
   ]
  },
  {
   "cell_type": "code",
   "execution_count": 3,
   "id": "5b1b53f1",
   "metadata": {},
   "outputs": [
    {
     "name": "stdout",
     "output_type": "stream",
     "text": [
      "Found 9501 images belonging to 5 classes.\n",
      "Found 2373 images belonging to 5 classes.\n"
     ]
    }
   ],
   "source": [
    "# image data preprocessing\n",
    "image_size = (160,160)\n",
    "\n",
    "batch_size = 64\n",
    "\n",
    "\n",
    "class_mode = 'categorical' # for multi-class classification problem, use: class_mode = 'categorical' or \"binary\"\n",
    "\n",
    "\n",
    "train_datagen = tf.keras.preprocessing.image.ImageDataGenerator(\n",
    "     rotation_range=90,\n",
    "     rescale=1./255,\n",
    "     shear_range=0.5,\n",
    "     zoom_range=0.5,\n",
    "     width_shift_range=0.5,\n",
    "     height_shift_range=0.5,\n",
    "     horizontal_flip=True,\n",
    "     vertical_flip=True,\n",
    "     fill_mode=\"nearest\",\n",
    "     validation_split=0.2 # set validation split\n",
    "    ) \n",
    "\n",
    "train_generator = train_datagen.flow_from_directory(\n",
    "    train_data_directory,\n",
    "    target_size=image_size,\n",
    "    batch_size=batch_size,\n",
    "    class_mode=class_mode, # for multi-class classification problem, use 'category'\n",
    "    subset='training') # set as training data\n",
    "\n",
    "validation_generator = train_datagen.flow_from_directory(\n",
    "    train_data_directory, # same directory as training data\n",
    "    target_size=image_size,\n",
    "    batch_size=batch_size,\n",
    "    class_mode=class_mode, # for multi-class classification problem, use 'category'\n",
    "    subset='validation') # set as validation data"
   ]
  },
  {
   "cell_type": "code",
   "execution_count": 4,
   "id": "2df7dd64",
   "metadata": {},
   "outputs": [],
   "source": [
    "# build a model\n",
    "base_model = tf.keras.applications.MobileNetV2(\n",
    "    weights='imagenet',  # Load weights pre-trained on ImageNet.\n",
    "    input_shape=(160, 160, 3),\n",
    "    include_top=False)  # Do not include the ImageNet classifier at the top.\n",
    "\n",
    "base_model.trainable = False\n",
    "\n",
    "inputs = tf.keras.Input(shape=(160, 160, 3))\n",
    "# We make sure that the base_model is running in inference mode here,\n",
    "# by passing `training=False`. This is important for fine-tuning, as you will\n",
    "# learn in a few paragraphs.\n",
    "x = base_model(inputs, training=False)\n",
    "# Convert features of shape `base_model.output_shape[1:]` to vectors\n",
    "x = tf.keras.layers.GlobalAveragePooling2D()(x)\n",
    "# A Dense classifier with a single unit (binary classification)\n",
    "outputs = tf.keras.layers.Dense(5, activation = 'softmax')(x)\n",
    "model = tf.keras.Model(inputs, outputs)"
   ]
  },
  {
   "cell_type": "code",
   "execution_count": 5,
   "id": "56b513e9",
   "metadata": {},
   "outputs": [],
   "source": [
    "# compile model\n",
    "model.compile(loss='categorical_crossentropy',\n",
    "              optimizer=tf.keras.optimizers.Adam(learning_rate=0.001),\n",
    "              metrics=['accuracy'])"
   ]
  },
  {
   "cell_type": "code",
   "execution_count": 6,
   "id": "be9d361a",
   "metadata": {},
   "outputs": [],
   "source": [
    "# Callbacks\n",
    "checkpoint = tf.keras.callbacks.ModelCheckpoint(\"dog_breeds_transfer_MobileNetV2.h5\", \n",
    "                             monitor='val_accuracy', \n",
    "                             verbose=1, \n",
    "                             save_best_only=True, \n",
    "                             save_weights_only=False, \n",
    "                             mode='auto', \n",
    "                             save_freq='epoch')\n",
    "early = tf.keras.callbacks.EarlyStopping(monitor='val_accuracy', \n",
    "                      min_delta=0, \n",
    "                      patience=3, \n",
    "                      verbose=1, \n",
    "                      mode='auto')\n",
    "learning_rate_reduction = tf.keras.callbacks.ReduceLROnPlateau(monitor='val_accuracy',\n",
    "                                            patience=1,\n",
    "                                            verbose=1,\n",
    "                                            factor=0.1,\n",
    "                                            min_lr=0.000000001)"
   ]
  },
  {
   "cell_type": "code",
   "execution_count": 7,
   "id": "e5f09508",
   "metadata": {},
   "outputs": [],
   "source": [
    "# load previously trained model\n",
    "# from tensorflow import keras\n",
    "# model = keras.models.load_model('C:/Users/Jenny/python/dog_breeds_transfer_MobileNetV2.h5')"
   ]
  },
  {
   "cell_type": "code",
   "execution_count": 8,
   "id": "f5dae5ab",
   "metadata": {},
   "outputs": [
    {
     "name": "stdout",
     "output_type": "stream",
     "text": [
      "Epoch 1/1000\n",
      "148/148 [==============================] - 158s 1s/step - loss: 1.0137 - accuracy: 0.6027 - val_loss: 0.8248 - val_accuracy: 0.6778\n",
      "\n",
      "Epoch 00001: val_accuracy improved from -inf to 0.67779, saving model to dog_breeds_transfer_MobileNetV2.h5\n",
      "Epoch 2/1000\n"
     ]
    },
    {
     "name": "stderr",
     "output_type": "stream",
     "text": [
      "C:\\Users\\Jenny\\miniconda3\\envs\\tensorflow-gpu\\lib\\site-packages\\tensorflow\\python\\keras\\utils\\generic_utils.py:494: CustomMaskWarning: Custom mask layers require a config and must override get_config. When loading, the custom mask layer must be passed to the custom_objects argument.\n",
      "  warnings.warn('Custom mask layers require a config and must override '\n"
     ]
    },
    {
     "name": "stdout",
     "output_type": "stream",
     "text": [
      "148/148 [==============================] - 115s 781ms/step - loss: 0.7747 - accuracy: 0.7010 - val_loss: 0.7864 - val_accuracy: 0.6947\n",
      "\n",
      "Epoch 00002: val_accuracy improved from 0.67779 to 0.69468, saving model to dog_breeds_transfer_MobileNetV2.h5\n",
      "Epoch 3/1000\n",
      "148/148 [==============================] - 115s 780ms/step - loss: 0.7641 - accuracy: 0.7051 - val_loss: 0.6844 - val_accuracy: 0.7331\n",
      "\n",
      "Epoch 00003: val_accuracy improved from 0.69468 to 0.73311, saving model to dog_breeds_transfer_MobileNetV2.h5\n",
      "Epoch 4/1000\n",
      "148/148 [==============================] - 117s 789ms/step - loss: 0.7312 - accuracy: 0.7129 - val_loss: 0.7206 - val_accuracy: 0.7331\n",
      "\n",
      "Epoch 00004: val_accuracy did not improve from 0.73311\n",
      "\n",
      "Epoch 00004: ReduceLROnPlateau reducing learning rate to 0.00010000000474974513.\n",
      "Epoch 5/1000\n",
      "148/148 [==============================] - 114s 773ms/step - loss: 0.7100 - accuracy: 0.7250 - val_loss: 0.7193 - val_accuracy: 0.7264\n",
      "\n",
      "Epoch 00005: val_accuracy did not improve from 0.73311\n",
      "\n",
      "Epoch 00005: ReduceLROnPlateau reducing learning rate to 1.0000000474974514e-05.\n",
      "Epoch 6/1000\n",
      "148/148 [==============================] - 111s 749ms/step - loss: 0.6954 - accuracy: 0.7333 - val_loss: 0.7236 - val_accuracy: 0.7192\n",
      "\n",
      "Epoch 00006: val_accuracy did not improve from 0.73311\n",
      "\n",
      "Epoch 00006: ReduceLROnPlateau reducing learning rate to 1.0000000656873453e-06.\n",
      "Epoch 00006: early stopping\n"
     ]
    }
   ],
   "source": [
    "# fit/train model\n",
    "\n",
    "nb_epochs = 1000\n",
    "\n",
    "history = model.fit(\n",
    "    train_generator,\n",
    "    steps_per_epoch = train_generator.samples // batch_size,\n",
    "    validation_data = validation_generator, \n",
    "    validation_steps = validation_generator.samples // batch_size,\n",
    "    epochs = nb_epochs,\n",
    "    callbacks=[checkpoint, early, learning_rate_reduction])"
   ]
  },
  {
   "cell_type": "code",
   "execution_count": 9,
   "id": "0321f555",
   "metadata": {},
   "outputs": [
    {
     "data": {
      "image/png": "[encoded data removed]",
      "text/plain": [
       "<Figure size 432x288 with 1 Axes>"
      ]
     },
     "metadata": {
      "needs_background": "light"
     },
     "output_type": "display_data"
    },
    {
     "data": {
      "image/png": "[encoded data removed]",
      "text/plain": [
       "<Figure size 432x288 with 1 Axes>"
      ]
     },
     "metadata": {
      "needs_background": "light"
     },
     "output_type": "display_data"
    }
   ],
   "source": [
    "import matplotlib.pyplot as plt\n",
    "\n",
    "# summarize history for accuracy\n",
    "plt.plot(history.history['accuracy'])\n",
    "plt.plot(history.history['val_accuracy'])\n",
    "plt.title('model accuracy')\n",
    "plt.ylabel('accuracy')\n",
    "plt.xlabel('epoch')\n",
    "plt.legend(['train', 'test'], loc='upper left')\n",
    "plt.show()\n",
    "\n",
    "# summarize history for loss\n",
    "plt.plot(history.history['loss'])\n",
    "plt.plot(history.history['val_loss'])\n",
    "plt.title('model loss')\n",
    "plt.ylabel('loss')\n",
    "plt.xlabel('epoch')\n",
    "plt.legend(['train', 'test'], loc='upper left')\n",
    "plt.show()"
   ]
  },
  {
   "cell_type": "code",
   "execution_count": 10,
   "id": "e93f261f",
   "metadata": {},
   "outputs": [
    {
     "name": "stdout",
     "output_type": "stream",
     "text": [
      "Epoch 1/1000\n",
      "148/148 [==============================] - 118s 773ms/step - loss: 0.6293 - accuracy: 0.7651 - val_loss: 0.6143 - val_accuracy: 0.7652\n",
      "\n",
      "Epoch 00001: val_accuracy improved from 0.73311 to 0.76520, saving model to dog_breeds_transfer_MobileNetV2.h5\n"
     ]
    },
    {
     "name": "stderr",
     "output_type": "stream",
     "text": [
      "C:\\Users\\Jenny\\miniconda3\\envs\\tensorflow-gpu\\lib\\site-packages\\tensorflow\\python\\keras\\utils\\generic_utils.py:494: CustomMaskWarning: Custom mask layers require a config and must override get_config. When loading, the custom mask layer must be passed to the custom_objects argument.\n",
      "  warnings.warn('Custom mask layers require a config and must override '\n"
     ]
    },
    {
     "name": "stdout",
     "output_type": "stream",
     "text": [
      "Epoch 2/1000\n",
      "148/148 [==============================] - 115s 774ms/step - loss: 0.5722 - accuracy: 0.7822 - val_loss: 0.5725 - val_accuracy: 0.7762\n",
      "\n",
      "Epoch 00002: val_accuracy improved from 0.76520 to 0.77618, saving model to dog_breeds_transfer_MobileNetV2.h5\n",
      "Epoch 3/1000\n",
      "148/148 [==============================] - 112s 757ms/step - loss: 0.5554 - accuracy: 0.7861 - val_loss: 0.5656 - val_accuracy: 0.7758\n",
      "\n",
      "Epoch 00003: val_accuracy did not improve from 0.77618\n",
      "\n",
      "Epoch 00003: ReduceLROnPlateau reducing learning rate to 9.999999747378752e-07.\n",
      "Epoch 4/1000\n",
      "148/148 [==============================] - 112s 757ms/step - loss: 0.5196 - accuracy: 0.8049 - val_loss: 0.5336 - val_accuracy: 0.7859\n",
      "\n",
      "Epoch 00004: val_accuracy improved from 0.77618 to 0.78590, saving model to dog_breeds_transfer_MobileNetV2.h5\n",
      "Epoch 5/1000\n",
      "148/148 [==============================] - 111s 753ms/step - loss: 0.5033 - accuracy: 0.8125 - val_loss: 0.5391 - val_accuracy: 0.7918\n",
      "\n",
      "Epoch 00005: val_accuracy improved from 0.78590 to 0.79181, saving model to dog_breeds_transfer_MobileNetV2.h5\n",
      "Epoch 6/1000\n",
      "148/148 [==============================] - 111s 751ms/step - loss: 0.5102 - accuracy: 0.8062 - val_loss: 0.5146 - val_accuracy: 0.8112\n",
      "\n",
      "Epoch 00006: val_accuracy improved from 0.79181 to 0.81123, saving model to dog_breeds_transfer_MobileNetV2.h5\n",
      "Epoch 7/1000\n",
      "148/148 [==============================] - 111s 749ms/step - loss: 0.5057 - accuracy: 0.8071 - val_loss: 0.5184 - val_accuracy: 0.7994\n",
      "\n",
      "Epoch 00007: val_accuracy did not improve from 0.81123\n",
      "\n",
      "Epoch 00007: ReduceLROnPlateau reducing learning rate to 9.999999974752428e-08.\n",
      "Epoch 8/1000\n",
      "148/148 [==============================] - 111s 752ms/step - loss: 0.4984 - accuracy: 0.8105 - val_loss: 0.5446 - val_accuracy: 0.7905\n",
      "\n",
      "Epoch 00008: val_accuracy did not improve from 0.81123\n",
      "\n",
      "Epoch 00008: ReduceLROnPlateau reducing learning rate to 1.0000000116860975e-08.\n",
      "Epoch 9/1000\n",
      "148/148 [==============================] - 112s 758ms/step - loss: 0.4995 - accuracy: 0.8102 - val_loss: 0.5332 - val_accuracy: 0.7931\n",
      "\n",
      "Epoch 00009: val_accuracy did not improve from 0.81123\n",
      "\n",
      "Epoch 00009: ReduceLROnPlateau reducing learning rate to 1e-09.\n",
      "Epoch 00009: early stopping\n"
     ]
    }
   ],
   "source": [
    "# Unfreeze the base model\n",
    "base_model.trainable = True\n",
    "\n",
    "# It's important to recompile your model after you make any changes to the `trainable` attribute of any inner layer, so that your changes are take into account\n",
    "model.compile(loss='categorical_crossentropy',\n",
    "              optimizer=tf.keras.optimizers.Adam(learning_rate=0.00001),\n",
    "              metrics=['accuracy'])\n",
    "\n",
    "# Train end-to-end. Be careful to stop before you overfit!\n",
    "nb_epochs = 1000\n",
    "history2 = model.fit(\n",
    "    train_generator,\n",
    "    steps_per_epoch = train_generator.samples // batch_size,\n",
    "    validation_data = validation_generator, \n",
    "    validation_steps = validation_generator.samples // batch_size,\n",
    "    epochs = nb_epochs,\n",
    "    callbacks=[checkpoint, early, learning_rate_reduction])"
   ]
  },
  {
   "cell_type": "code",
   "execution_count": 11,
   "id": "ed1e7856",
   "metadata": {},
   "outputs": [
    {
     "data": {
      "image/png": "[encoded data removed]",
      "text/plain": [
       "<Figure size 432x288 with 1 Axes>"
      ]
     },
     "metadata": {
      "needs_background": "light"
     },
     "output_type": "display_data"
    },
    {
     "data": {
      "image/png": "[encoded data removed]",
      "text/plain": [
       "<Figure size 432x288 with 1 Axes>"
      ]
     },
     "metadata": {
      "needs_background": "light"
     },
     "output_type": "display_data"
    }
   ],
   "source": [
    "import matplotlib.pyplot as plt\n",
    "\n",
    "# summarize history for accuracy\n",
    "plt.plot(history2.history['accuracy'])\n",
    "plt.plot(history2.history['val_accuracy'])\n",
    "plt.title('model accuracy')\n",
    "plt.ylabel('accuracy')\n",
    "plt.xlabel('epoch')\n",
    "plt.legend(['train', 'test'], loc='upper left')\n",
    "plt.show()\n",
    "\n",
    "# summarize history for loss\n",
    "plt.plot(history2.history['loss'])\n",
    "plt.plot(history2.history['val_loss'])\n",
    "plt.title('model loss')\n",
    "plt.ylabel('loss')\n",
    "plt.xlabel('epoch')\n",
    "plt.legend(['train', 'test'], loc='upper left')\n",
    "plt.show()"
   ]
  },
  {
   "cell_type": "code",
   "execution_count": null,
   "id": "e59ecb92",
   "metadata": {},
   "outputs": [],
   "source": []
  },
  {
   "cell_type": "code",
   "execution_count": null,
   "id": "14cb1def",
   "metadata": {},
   "outputs": [],
   "source": []
  },
  {
   "cell_type": "code",
   "execution_count": null,
   "id": "a32eaa4a",
   "metadata": {},
   "outputs": [],
   "source": []
  },
  {
   "cell_type": "code",
   "execution_count": null,
   "id": "1e59df48",
   "metadata": {},
   "outputs": [],
   "source": []
  },
  {
   "cell_type": "code",
   "execution_count": null,
   "id": "2448170b",
   "metadata": {},
   "outputs": [],
   "source": []
  },
  {
   "cell_type": "code",
   "execution_count": null,
   "id": "22e726b2",
   "metadata": {},
   "outputs": [],
   "source": []
  },
  {
   "cell_type": "code",
   "execution_count": null,
   "id": "d49a059e",
   "metadata": {},
   "outputs": [],
   "source": []
  },
  {
   "cell_type": "code",
   "execution_count": null,
   "id": "7850615b",
   "metadata": {},
   "outputs": [],
   "source": []
  }
 ],
 "metadata": {
  "kernelspec": {
   "display_name": "Python 3 (ipykernel)",
   "language": "python",
   "name": "python3"
  },
  "language_info": {
   "codemirror_mode": {
    "name": "ipython",
    "version": 3
   },
   "file_extension": ".py",
   "mimetype": "text/x-python",
   "name": "python",
   "nbconvert_exporter": "python",
   "pygments_lexer": "ipython3",
   "version": "3.9.5"
  }
 },
 "nbformat": 4,
 "nbformat_minor": 5
}
